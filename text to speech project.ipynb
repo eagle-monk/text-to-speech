{
 "cells": [
  {
   "cell_type": "code",
   "execution_count": 1,
   "id": "0493600e",
   "metadata": {},
   "outputs": [],
   "source": [
    "# pip install gtts pygame\n"
   ]
  },
  {
   "cell_type": "code",
   "execution_count": 5,
   "id": "95b0f74b",
   "metadata": {},
   "outputs": [],
   "source": [
    "from gtts import gTTS\n",
    "import pygame\n",
    "import os\n",
    "import time\n",
    "\n",
    "def text_to_speech(text, lang='en'):\n",
    "    \"\"\"\n",
    "    Convert text to speech using Google Text-to-Speech.\n",
    "\n",
    "    Parameters:\n",
    "    text (str): The text to convert to speech.\n",
    "    lang (str): The language of the text. Default is English ('en').\n",
    "    \"\"\"\n",
    "    # Generate the speech\n",
    "    tts = gTTS(text=text, lang=lang)\n",
    "    \n",
    "    # Use a unique temporary file name\n",
    "    temp_file = f'temp_audio_{int(time.time())}.mp3'\n",
    "    \n",
    "    # Save the speech to a temporary file\n",
    "    tts.save(temp_file)\n",
    "    \n",
    "    # Initialize pygame mixer\n",
    "    pygame.mixer.init()\n",
    "    \n",
    "    # Load and play the speech\n",
    "    pygame.mixer.music.load(temp_file)\n",
    "    pygame.mixer.music.play()\n",
    "    \n",
    "    # Wait for the speech to finish playing\n",
    "    while pygame.mixer.music.get_busy():\n",
    "        pygame.time.Clock().tick(10)\n",
    "    \n",
    "    # Stop and uninitialize the mixer\n",
    "    pygame.mixer.music.stop()\n",
    "    pygame.mixer.quit()\n",
    "    \n",
    "    # Remove the temporary file\n",
    "    os.remove(temp_file)\n",
    "\n",
    "if __name__ == '__main__':\n",
    "    # Example text\n",
    "    text = \"Welcome to the CScalp community, how are you doing today?\"\n",
    "    \n",
    "    # Convert text to speech\n",
    "    text_to_speech(text)\n"
   ]
  },
  {
   "cell_type": "code",
   "execution_count": null,
   "id": "a601ad0e",
   "metadata": {},
   "outputs": [],
   "source": []
  },
  {
   "cell_type": "code",
   "execution_count": 15,
   "id": "3a8ba1a8",
   "metadata": {},
   "outputs": [
    {
     "name": "stdout",
     "output_type": "stream",
     "text": [
      "Playing text in en: Welcome to the community, how are you doing today?\n",
      "Playing text in hi: समुदाय में आपका स्वागत है, आप आज कैसे हैं?\n",
      "Playing text in te: సమాజానికి స్వాగతం, మీరు ఈ రోజు ఎలా ఉన్నారు?\n",
      "Playing text in ta: சமுதாயத்தில் உங்களை வரவேற்கிறோம், இன்று எப்படி இருக்கிறீர்கள்?\n",
      "Playing text in kn: ಸಮುದಾಯಕ್ಕೆ ಸ್ವಾಗತ, ನೀವು ಇಂದು ಹೇಗಿದ್ದೀರಿ?\n",
      "Playing text in bn: সম্প্রদায়ে আপনাকে স্বাগতম, আপনি আজ কেমন আছেন?\n",
      "Playing text in gu: સમુદાયમાં તમારું સ્વાગત છે, તમે આજ કેમ છો?\n",
      "Playing text in ur: کمیونٹی میں خوش آمدید، آپ آج کیسے ہیں؟\n"
     ]
    }
   ],
   "source": [
    "from gtts import gTTS\n",
    "import pygame\n",
    "import os\n",
    "import time\n",
    "\n",
    "def text_to_speech(text, lang='en'):\n",
    "    \"\"\"\n",
    "    Convert text to speech using Google Text-to-Speech.\n",
    "\n",
    "    Parameters:\n",
    "    text (str): The text to convert to speech.\n",
    "    lang (str): The language of the text. Default is English ('en').\n",
    "    \"\"\"\n",
    "    # Generate the speech\n",
    "    tts = gTTS(text=text, lang=lang)\n",
    "    \n",
    "    # Use a unique temporary file name\n",
    "    temp_file = f'temp_audio_{int(time.time())}.mp3'\n",
    "    \n",
    "    # Save the speech to a temporary file\n",
    "    tts.save(temp_file)\n",
    "    \n",
    "    # Initialize pygame mixer\n",
    "    pygame.mixer.init()\n",
    "    \n",
    "    # Load and play the speech\n",
    "    pygame.mixer.music.load(temp_file)\n",
    "    pygame.mixer.music.play()\n",
    "    \n",
    "    # Wait for the speech to finish playing\n",
    "    while pygame.mixer.music.get_busy():\n",
    "        pygame.time.Clock().tick(10)\n",
    "    \n",
    "    # Stop and uninitialize the mixer\n",
    "    pygame.mixer.music.stop()\n",
    "    pygame.mixer.quit()\n",
    "    \n",
    "    # Remove the temporary file\n",
    "    os.remove(temp_file)\n",
    "\n",
    "if __name__ == '__main__':\n",
    "    # Example texts in different languages\n",
    "    texts = {\n",
    "        'en': \"Welcome to the community, how are you doing today?\",\n",
    "        'hi': \"समुदाय में आपका स्वागत है, आप आज कैसे हैं?\",\n",
    "        'te': \"సమాజానికి స్వాగతం, మీరు ఈ రోజు ఎలా ఉన్నారు?\",\n",
    "        'ta': \"சமுதாயத்தில் உங்களை வரவேற்கிறோம், இன்று எப்படி இருக்கிறீர்கள்?\",\n",
    "        'kn': \"ಸಮುದಾಯಕ್ಕೆ ಸ್ವಾಗತ, ನೀವು ಇಂದು ಹೇಗಿದ್ದೀರಿ?\",\n",
    "        'bn': \"সম্প্রদায়ে আপনাকে স্বাগতম, আপনি আজ কেমন আছেন?\",\n",
    "        'gu': \"સમુદાયમાં તમારું સ્વાગત છે, તમે આજ કેમ છો?\",\n",
    "        'ur': \"کمیونٹی میں خوش آمدید، آپ آج کیسے ہیں؟\"\n",
    "    }\n",
    "    \n",
    "    # Convert text to speech in different languages\n",
    "    for lang, text in texts.items():\n",
    "        print(f\"Playing text in {lang}: {text}\")\n",
    "        text_to_speech(text, lang)\n"
   ]
  },
  {
   "cell_type": "code",
   "execution_count": null,
   "id": "d44f3908",
   "metadata": {},
   "outputs": [],
   "source": []
  },
  {
   "cell_type": "code",
   "execution_count": null,
   "id": "98f603b3",
   "metadata": {},
   "outputs": [],
   "source": []
  },
  {
   "cell_type": "code",
   "execution_count": null,
   "id": "60c7aa74",
   "metadata": {},
   "outputs": [],
   "source": []
  },
  {
   "cell_type": "code",
   "execution_count": null,
   "id": "64859173",
   "metadata": {},
   "outputs": [],
   "source": []
  },
  {
   "cell_type": "code",
   "execution_count": null,
   "id": "bcfb49e3",
   "metadata": {},
   "outputs": [],
   "source": []
  },
  {
   "cell_type": "code",
   "execution_count": null,
   "id": "caa10e58",
   "metadata": {},
   "outputs": [],
   "source": []
  },
  {
   "cell_type": "code",
   "execution_count": null,
   "id": "0879e938",
   "metadata": {},
   "outputs": [],
   "source": []
  },
  {
   "cell_type": "code",
   "execution_count": null,
   "id": "aa42dc26",
   "metadata": {},
   "outputs": [],
   "source": []
  },
  {
   "cell_type": "code",
   "execution_count": null,
   "id": "e51aba0b",
   "metadata": {},
   "outputs": [],
   "source": []
  },
  {
   "cell_type": "code",
   "execution_count": null,
   "id": "6d3b10fb",
   "metadata": {},
   "outputs": [],
   "source": []
  },
  {
   "cell_type": "code",
   "execution_count": 17,
   "id": "e902ebb6",
   "metadata": {},
   "outputs": [],
   "source": [
    "text_to_speech('Hello Rohit kumar, how are you brother, let us go for lunch today, do fast', 'hi')"
   ]
  },
  {
   "cell_type": "code",
   "execution_count": null,
   "id": "171fe455",
   "metadata": {},
   "outputs": [],
   "source": []
  }
 ],
 "metadata": {
  "kernelspec": {
   "display_name": "Python 3 (ipykernel)",
   "language": "python",
   "name": "python3"
  },
  "language_info": {
   "codemirror_mode": {
    "name": "ipython",
    "version": 3
   },
   "file_extension": ".py",
   "mimetype": "text/x-python",
   "name": "python",
   "nbconvert_exporter": "python",
   "pygments_lexer": "ipython3",
   "version": "3.11.9"
  }
 },
 "nbformat": 4,
 "nbformat_minor": 5
}
